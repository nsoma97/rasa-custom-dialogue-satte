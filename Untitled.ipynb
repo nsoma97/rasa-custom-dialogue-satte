{
 "cells": [
  {
   "cell_type": "code",
   "execution_count": 76,
   "id": "93d6abaa",
   "metadata": {},
   "outputs": [],
   "source": [
    "import pandas as pd\n",
    "from datetime import date, time, timedelta\n",
    "from random import randint"
   ]
  },
  {
   "cell_type": "code",
   "execution_count": 99,
   "id": "66377c03",
   "metadata": {},
   "outputs": [],
   "source": [
    "from hun_date_parser import text2datetime\n",
    "from datetimerange import DateTimeRange"
   ]
  },
  {
   "cell_type": "code",
   "execution_count": 90,
   "id": "f96413a7",
   "metadata": {},
   "outputs": [
    {
     "data": {
      "text/plain": [
       "[{'start_date': datetime.datetime(2021, 9, 20, 6, 0),\n",
       "  'end_date': datetime.datetime(2021, 9, 14, 9, 59, 59)}]"
      ]
     },
     "execution_count": 90,
     "metadata": {},
     "output_type": "execute_result"
    }
   ],
   "source": [
    "text2datetime(\"holnap reggeltől kedd estig\")"
   ]
  },
  {
   "cell_type": "code",
   "execution_count": 88,
   "id": "4a0d8424",
   "metadata": {},
   "outputs": [],
   "source": [
    "tst = text2datetime(\"ma\")"
   ]
  },
  {
   "cell_type": "code",
   "execution_count": 89,
   "id": "0d23acf9",
   "metadata": {},
   "outputs": [
    {
     "data": {
      "text/plain": [
       "[{'start_date': datetime.datetime(2021, 9, 19, 0, 0),\n",
       "  'end_date': datetime.datetime(2021, 9, 19, 23, 59, 59)}]"
      ]
     },
     "execution_count": 89,
     "metadata": {},
     "output_type": "execute_result"
    }
   ],
   "source": [
    "tst"
   ]
  },
  {
   "cell_type": "code",
   "execution_count": 118,
   "id": "3e31b2e5",
   "metadata": {},
   "outputs": [],
   "source": [
    "from typing import List\n",
    "\n",
    "\n",
    "class TimeSeries:\n",
    "    \n",
    "    def __init__(self, start: datetime, end: datetime, labels: List[str]):\n",
    "        self.start = start\n",
    "        self.end = end\n",
    "        self.time_series = DateTimeRange(start, end)\n",
    "        self.labels = labels\n",
    "        self.sub_datetimes = {l: [] for l in labels}\n",
    "        \n",
    "    def label_interval(self, start: datetime, end: datetime, label: str):\n",
    "        assert label in self.labels\n",
    "        \n",
    "        to_label_interval = DateTimeRange(start, end)\n",
    "        to_label_interval_common = self.time_series.intersection(to_label_interval)\n",
    "\n",
    "        if to_label_interval_common.start_datetime and to_label_interval_common.end_datetime:\n",
    "            self.sub_datetimes[label].append(to_label_interval_common)"
   ]
  },
  {
   "cell_type": "code",
   "execution_count": 124,
   "id": "79a6ca80",
   "metadata": {},
   "outputs": [],
   "source": [
    "ts = TimeSeries(datetime(2021, 9, 1), datetime(2021, 10, 1), ['free', 'occupied'])"
   ]
  },
  {
   "cell_type": "code",
   "execution_count": 125,
   "id": "84ea5d0a",
   "metadata": {},
   "outputs": [],
   "source": [
    "ts.label_interval(datetime(2021, 9, 11), datetime(2021, 9, 13), 'free')\n",
    "ts.label_interval(datetime(2021, 9, 12), datetime(2021, 9, 20), 'free')"
   ]
  },
  {
   "cell_type": "code",
   "execution_count": 126,
   "id": "67521ffc",
   "metadata": {},
   "outputs": [
    {
     "data": {
      "text/plain": [
       "{'free': [2021-09-11T00:00:00 - 2021-09-13T00:00:00,\n",
       "  2021-09-12T00:00:00 - 2021-09-20T00:00:00],\n",
       " 'occupied': []}"
      ]
     },
     "execution_count": 126,
     "metadata": {},
     "output_type": "execute_result"
    }
   ],
   "source": [
    "ts.sub_datetimes"
   ]
  },
  {
   "cell_type": "code",
   "execution_count": 139,
   "id": "3dc48af8",
   "metadata": {},
   "outputs": [
    {
     "data": {
      "text/plain": [
       "datetime.datetime(2021, 10, 1, 0, 0)"
      ]
     },
     "execution_count": 139,
     "metadata": {},
     "output_type": "execute_result"
    }
   ],
   "source": [
    "dtr.set"
   ]
  },
  {
   "cell_type": "code",
   "execution_count": 131,
   "id": "bd4354a4",
   "metadata": {},
   "outputs": [],
   "source": []
  },
  {
   "cell_type": "code",
   "execution_count": 137,
   "id": "c01e4f81",
   "metadata": {},
   "outputs": [
    {
     "data": {
      "text/plain": [
       "True"
      ]
     },
     "execution_count": 137,
     "metadata": {},
     "output_type": "execute_result"
    }
   ],
   "source": [
    "bool(dtrs[0].intersection(DateTimeRange(datetime(2021, 9, 9), datetime(2021, 9, 12))))"
   ]
  },
  {
   "cell_type": "code",
   "execution_count": 174,
   "id": "2fa27f63",
   "metadata": {},
   "outputs": [],
   "source": [
    "from copy import deepcopy"
   ]
  },
  {
   "cell_type": "code",
   "execution_count": 192,
   "id": "33518726",
   "metadata": {},
   "outputs": [],
   "source": [
    "def extend_date_ranges(dtr_lst, date_range):\n",
    "    dtr_lst_ = []\n",
    "    \n",
    "    appended = False\n",
    "    for dtr in dtr_lst:\n",
    "        inters = dtr.intersection(date_range)\n",
    "        \n",
    "        if inters.start_datetime and inters.end_datetime:\n",
    "            new_start_dt = min(\n",
    "                inters.start_datetime,\n",
    "                dtr.start_datetime\n",
    "            )\n",
    "            new_end_date = max(\n",
    "                inters.end_datetime,\n",
    "                dtr.end_datetime\n",
    "            )\n",
    "            \n",
    "            appended = True\n",
    "            \n",
    "            new_dtr = DateTimeRange(new_start_dt, new_end_date)\n",
    "            print(new_dtr)\n",
    "            dtr_lst_.append(new_dtr)\n",
    "        else:\n",
    "            dtr_lst_.append(dtr)\n",
    "            \n",
    "    if not appended:\n",
    "        dtr_lst_.append(date_range)\n",
    "        \n",
    "    return dtr_lst_"
   ]
  },
  {
   "cell_type": "code",
   "execution_count": 193,
   "id": "761bf579",
   "metadata": {},
   "outputs": [],
   "source": [
    "dtrs = [\n",
    "    DateTimeRange(datetime(2021, 9, 1), datetime(2021, 9, 8)),\n",
    "    DateTimeRange(datetime(2021, 9, 15), datetime(2021, 9, 18)),\n",
    "]\n"
   ]
  },
  {
   "cell_type": "code",
   "execution_count": 194,
   "id": "5872b61f",
   "metadata": {},
   "outputs": [
    {
     "name": "stdout",
     "output_type": "stream",
     "text": [
      "2021-09-01T00:00:00 - 2021-09-08T00:00:00\n",
      "2021-09-15T00:00:00 - 2021-09-18T00:00:00\n"
     ]
    },
    {
     "data": {
      "text/plain": [
       "[2021-09-01T00:00:00 - 2021-09-08T00:00:00,\n",
       " 2021-09-15T00:00:00 - 2021-09-18T00:00:00]"
      ]
     },
     "execution_count": 194,
     "metadata": {},
     "output_type": "execute_result"
    }
   ],
   "source": [
    "extend_date_ranges(dtrs, DateTimeRange(datetime(2021, 9, 6), datetime(2021, 9, 20)))"
   ]
  },
  {
   "cell_type": "code",
   "execution_count": 167,
   "id": "d7d1cdd9",
   "metadata": {},
   "outputs": [
    {
     "data": {
      "text/plain": [
       "[2021-09-01T00:00:00 - 2021-09-08T00:00:00,\n",
       " 2021-09-15T00:00:00 - 2021-09-18T00:00:00]"
      ]
     },
     "execution_count": 167,
     "metadata": {},
     "output_type": "execute_result"
    }
   ],
   "source": [
    "dtrs"
   ]
  },
  {
   "cell_type": "code",
   "execution_count": 150,
   "id": "e98d5c46",
   "metadata": {},
   "outputs": [
    {
     "data": {
      "text/plain": [
       "[2021-09-01T00:00:00 - 2021-09-08T00:00:00,\n",
       " 2021-09-15T00:00:00 - 2021-09-18T00:00:00,\n",
       " 2021-09-09T00:00:00 - 2021-09-12T00:00:00]"
      ]
     },
     "execution_count": 150,
     "metadata": {},
     "output_type": "execute_result"
    }
   ],
   "source": [
    "dtrs"
   ]
  },
  {
   "cell_type": "code",
   "execution_count": null,
   "id": "3efaff2b",
   "metadata": {},
   "outputs": [],
   "source": []
  },
  {
   "cell_type": "code",
   "execution_count": null,
   "id": "4305e322",
   "metadata": {},
   "outputs": [],
   "source": [
    "class TimeTableSlot:\n",
    "    \n",
    "    def __init__(self, dct=None):\n",
    "        \n",
    "        if not dct:\n",
    "            dates = pd.date_range(date.today(), datetime.now() + timedelta(days=14))\n",
    "            times = [time(i) for i in range(24)]\n",
    "            \n",
    "            self.time_table = pd.DataFrame(columns=dates, index=times).fillna(0)\n",
    "        else:\n",
    "            self.time_table = pd.DataFrame(dct)\n",
    "        \n",
    "    def serialize_to_dict(self):\n",
    "        return self.time_table.to_dict()\n",
    "    \n",
    "    @staticmethod\n",
    "    def from_dict(dct):\n",
    "        return TimeTableSlot(dct)\n",
    "    \n",
    "    def set_appointment(self, *args, **kwargs):\n",
    "        self.time_table.iloc[randint(0, 24),\n",
    "                             randint(0, 14)] = 1\n",
    "        \n",
    "    def save(self):\n",
    "        time_str = datetime.now().strftime(\"%Y-%m-%d_%H:%M:%S\")\n",
    "        # df_styled = self.time_table.style.background_gradient(cmap=\"Blues\")\n",
    "        self.time_table.to_excel(f'time_table_{time_str}.xls')"
   ]
  },
  {
   "cell_type": "code",
   "execution_count": 81,
   "id": "5fb353e5",
   "metadata": {},
   "outputs": [],
   "source": [
    "class TimeTableSlot:\n",
    "    \n",
    "    def __init__(self, dct=None):\n",
    "        \n",
    "        if not dct:\n",
    "            dates = pd.date_range(date.today(), datetime.now() + timedelta(days=14))\n",
    "            times = [time(i) for i in range(24)]\n",
    "            \n",
    "            self.time_table = pd.DataFrame(columns=dates, index=times).fillna(0)\n",
    "        else:\n",
    "            self.time_table = pd.DataFrame(dct)\n",
    "        \n",
    "    def serialize_to_dict(self):\n",
    "        return self.time_table.to_dict()\n",
    "    \n",
    "    @staticmethod\n",
    "    def from_dict(dct):\n",
    "        return TimeTableSlot(dct)\n",
    "    \n",
    "    def set_appointment(self, *args, **kwargs):\n",
    "        self.time_table.iloc[randint(0, 24),\n",
    "                             randint(0, 14)] = 1\n",
    "        \n",
    "    def save(self):\n",
    "        time_str = datetime.now().strftime(\"%Y-%m-%d_%H:%M:%S\")\n",
    "        # df_styled = self.time_table.style.background_gradient(cmap=\"Blues\")\n",
    "        self.time_table.to_excel(f'time_table_{time_str}.xls')"
   ]
  },
  {
   "cell_type": "code",
   "execution_count": 82,
   "id": "68ca655e",
   "metadata": {},
   "outputs": [],
   "source": [
    "tts = TimeTableSlot()"
   ]
  },
  {
   "cell_type": "code",
   "execution_count": 83,
   "id": "88809de8",
   "metadata": {},
   "outputs": [
    {
     "name": "stderr",
     "output_type": "stream",
     "text": [
      "<ipython-input-81-db0bc8ed1edb>:27: FutureWarning: As the xlwt package is no longer maintained, the xlwt engine will be removed in a future version of pandas. This is the only engine in pandas that supports writing in the xls format. Install openpyxl and write to an xlsx file instead. You can set the option io.excel.xls.writer to 'xlwt' to silence this warning. While this option is deprecated and will also raise a warning, it can be globally set and the warning suppressed.\n",
      "  self.time_table.to_excel(f'time_table_{time_str}.xls')\n"
     ]
    }
   ],
   "source": [
    "tts.set_appointment()\n",
    "tts.set_appointment()\n",
    "tts.save()\n",
    "tts.set_appointment()\n",
    "tts.save()"
   ]
  },
  {
   "cell_type": "code",
   "execution_count": null,
   "id": "cf4d7173",
   "metadata": {},
   "outputs": [],
   "source": []
  }
 ],
 "metadata": {
  "kernelspec": {
   "display_name": "Python 3",
   "language": "python",
   "name": "python3"
  },
  "language_info": {
   "codemirror_mode": {
    "name": "ipython",
    "version": 3
   },
   "file_extension": ".py",
   "mimetype": "text/x-python",
   "name": "python",
   "nbconvert_exporter": "python",
   "pygments_lexer": "ipython3",
   "version": "3.8.6"
  }
 },
 "nbformat": 4,
 "nbformat_minor": 5
}
